{
  "cells": [
    {
      "cell_type": "markdown",
      "metadata": {
        "id": "Pxp3xzjgygqV"
      },
      "source": [
        "# 1.\tВыбор начальных условий"
      ]
    },
    {
      "cell_type": "code",
      "execution_count": 1,
      "metadata": {
        "id": "N-BBOjdOzHzp"
      },
      "outputs": [
        {
          "name": "stderr",
          "output_type": "stream",
          "text": [
            "/Users/22207865/Desktop/multi/Multimedia/.venv/lib/python3.12/site-packages/tqdm/auto.py:21: TqdmWarning: IProgress not found. Please update jupyter and ipywidgets. See https://ipywidgets.readthedocs.io/en/stable/user_install.html\n",
            "  from .autonotebook import tqdm as notebook_tqdm\n"
          ]
        }
      ],
      "source": [
        "import kagglehub\n",
        "import pandas as pd\n",
        "import numpy as np\n",
        "import matplotlib.pyplot as plt\n",
        "import seaborn as sns\n",
        "import math\n",
        "\n",
        "from sklearn.model_selection import train_test_split\n",
        "from sklearn.preprocessing import OneHotEncoder, StandardScaler, MinMaxScaler\n",
        "from sklearn.compose import ColumnTransformer\n",
        "from sklearn.pipeline import Pipeline\n",
        "from sklearn.linear_model import LinearRegression\n",
        "from sklearn.dummy import DummyClassifier\n",
        "from sklearn.metrics import r2_score, mean_squared_error\n",
        "import warnings\n",
        "\n",
        "warnings.filterwarnings(\"ignore\")"
      ]
    },
    {
      "cell_type": "code",
      "execution_count": 3,
      "metadata": {
        "colab": {
          "base_uri": "https://localhost:8080/"
        },
        "id": "0A6ozp4Mxib7",
        "outputId": "046e560c-e54f-4ecf-e894-2aa8f5d36abb"
      },
      "outputs": [
        {
          "name": "stdout",
          "output_type": "stream",
          "text": [
            "Downloading from https://www.kaggle.com/api/v1/datasets/download/beridzeg45/diamonds-prices-prediction?dataset_version_number=2...\n"
          ]
        },
        {
          "name": "stderr",
          "output_type": "stream",
          "text": [
            "100%|██████████| 131k/131k [00:00<00:00, 216kB/s]"
          ]
        },
        {
          "name": "stdout",
          "output_type": "stream",
          "text": [
            "Extracting files...\n",
            "Path to dataset files: /Users/22207865/.cache/kagglehub/datasets/beridzeg45/diamonds-prices-prediction/versions/2\n"
          ]
        },
        {
          "name": "stderr",
          "output_type": "stream",
          "text": [
            "\n"
          ]
        }
      ],
      "source": [
        "import kagglehub\n",
        "\n",
        "path = kagglehub.dataset_download(\"beridzeg45/diamonds-prices-prediction\")\n",
        "\n",
        "print(\"Path to dataset files:\", path)"
      ]
    },
    {
      "cell_type": "code",
      "execution_count": 2,
      "metadata": {
        "colab": {
          "base_uri": "https://localhost:8080/"
        },
        "id": "8nsU-WE6y4np",
        "outputId": "3015e383-dc09-44f0-8b81-d309ccc45e95"
      },
      "outputs": [
        {
          "name": "stdout",
          "output_type": "stream",
          "text": [
            "diamonds (cleaned).csv\n"
          ]
        }
      ],
      "source": [
        "!ls /Users/22207865/.cache/kagglehub/datasets/beridzeg45/diamonds-prices-prediction/versions/2"
      ]
    },
    {
      "cell_type": "code",
      "execution_count": 3,
      "metadata": {
        "colab": {
          "base_uri": "https://localhost:8080/",
          "height": 253
        },
        "id": "y6wq890nxiYR",
        "outputId": "1ba83210-9eb2-4522-dc9c-9354e98cfd61"
      },
      "outputs": [
        {
          "data": {
            "text/html": [
              "<div>\n",
              "<style scoped>\n",
              "    .dataframe tbody tr th:only-of-type {\n",
              "        vertical-align: middle;\n",
              "    }\n",
              "\n",
              "    .dataframe tbody tr th {\n",
              "        vertical-align: top;\n",
              "    }\n",
              "\n",
              "    .dataframe thead th {\n",
              "        text-align: right;\n",
              "    }\n",
              "</style>\n",
              "<table border=\"1\" class=\"dataframe\">\n",
              "  <thead>\n",
              "    <tr style=\"text-align: right;\">\n",
              "      <th></th>\n",
              "      <th>Shape</th>\n",
              "      <th>Cut</th>\n",
              "      <th>Color</th>\n",
              "      <th>Clarity</th>\n",
              "      <th>Carat Weight</th>\n",
              "      <th>Length/Width Ratio</th>\n",
              "      <th>Depth %</th>\n",
              "      <th>Table %</th>\n",
              "      <th>Polish</th>\n",
              "      <th>Symmetry</th>\n",
              "      <th>Girdle</th>\n",
              "      <th>Culet</th>\n",
              "      <th>Length</th>\n",
              "      <th>Width</th>\n",
              "      <th>Height</th>\n",
              "      <th>Price</th>\n",
              "      <th>Type</th>\n",
              "      <th>Fluorescence</th>\n",
              "    </tr>\n",
              "  </thead>\n",
              "  <tbody>\n",
              "    <tr>\n",
              "      <th>0</th>\n",
              "      <td>Cushion Modified</td>\n",
              "      <td>Ideal</td>\n",
              "      <td>F</td>\n",
              "      <td>VVS2</td>\n",
              "      <td>1.84</td>\n",
              "      <td>1.02</td>\n",
              "      <td>65.8</td>\n",
              "      <td>59.0</td>\n",
              "      <td>Excellent</td>\n",
              "      <td>Very Good</td>\n",
              "      <td>Medium to Thick</td>\n",
              "      <td>NaN</td>\n",
              "      <td>7.09</td>\n",
              "      <td>6.95</td>\n",
              "      <td>4.57</td>\n",
              "      <td>2640</td>\n",
              "      <td>GIA Lab-Grown</td>\n",
              "      <td>NaN</td>\n",
              "    </tr>\n",
              "    <tr>\n",
              "      <th>1</th>\n",
              "      <td>Pear</td>\n",
              "      <td>NaN</td>\n",
              "      <td>E</td>\n",
              "      <td>VS1</td>\n",
              "      <td>1.20</td>\n",
              "      <td>1.65</td>\n",
              "      <td>62.5</td>\n",
              "      <td>58.0</td>\n",
              "      <td>Very Good</td>\n",
              "      <td>Very Good</td>\n",
              "      <td>Medium to Thick</td>\n",
              "      <td>NaN</td>\n",
              "      <td>9.64</td>\n",
              "      <td>5.86</td>\n",
              "      <td>3.66</td>\n",
              "      <td>1070</td>\n",
              "      <td>GIA Lab-Grown</td>\n",
              "      <td>NaN</td>\n",
              "    </tr>\n",
              "    <tr>\n",
              "      <th>2</th>\n",
              "      <td>Oval</td>\n",
              "      <td>NaN</td>\n",
              "      <td>E</td>\n",
              "      <td>VS1</td>\n",
              "      <td>1.19</td>\n",
              "      <td>1.41</td>\n",
              "      <td>63.1</td>\n",
              "      <td>63.0</td>\n",
              "      <td>Very Good</td>\n",
              "      <td>Very Good</td>\n",
              "      <td>Medium to Thick</td>\n",
              "      <td>NaN</td>\n",
              "      <td>8.44</td>\n",
              "      <td>6.00</td>\n",
              "      <td>3.79</td>\n",
              "      <td>1070</td>\n",
              "      <td>GIA Lab-Grown</td>\n",
              "      <td>NaN</td>\n",
              "    </tr>\n",
              "    <tr>\n",
              "      <th>3</th>\n",
              "      <td>Heart</td>\n",
              "      <td>NaN</td>\n",
              "      <td>D</td>\n",
              "      <td>IF</td>\n",
              "      <td>1.00</td>\n",
              "      <td>1.18</td>\n",
              "      <td>61.7</td>\n",
              "      <td>58.0</td>\n",
              "      <td>Excellent</td>\n",
              "      <td>Excellent</td>\n",
              "      <td>Slightly Thick to Very Thick</td>\n",
              "      <td>NaN</td>\n",
              "      <td>5.85</td>\n",
              "      <td>6.89</td>\n",
              "      <td>4.25</td>\n",
              "      <td>7110</td>\n",
              "      <td>GIA</td>\n",
              "      <td>Faint</td>\n",
              "    </tr>\n",
              "    <tr>\n",
              "      <th>4</th>\n",
              "      <td>Radiant</td>\n",
              "      <td>NaN</td>\n",
              "      <td>H</td>\n",
              "      <td>VS1</td>\n",
              "      <td>1.01</td>\n",
              "      <td>1.35</td>\n",
              "      <td>69.4</td>\n",
              "      <td>66.0</td>\n",
              "      <td>Excellent</td>\n",
              "      <td>Very Good</td>\n",
              "      <td>Thick</td>\n",
              "      <td>NaN</td>\n",
              "      <td>6.80</td>\n",
              "      <td>5.05</td>\n",
              "      <td>3.50</td>\n",
              "      <td>3050</td>\n",
              "      <td>GIA</td>\n",
              "      <td>NaN</td>\n",
              "    </tr>\n",
              "  </tbody>\n",
              "</table>\n",
              "</div>"
            ],
            "text/plain": [
              "              Shape    Cut Color Clarity  Carat Weight  Length/Width Ratio  \\\n",
              "0  Cushion Modified  Ideal     F    VVS2          1.84                1.02   \n",
              "1              Pear    NaN     E     VS1          1.20                1.65   \n",
              "2              Oval    NaN     E     VS1          1.19                1.41   \n",
              "3             Heart    NaN     D      IF          1.00                1.18   \n",
              "4           Radiant    NaN     H     VS1          1.01                1.35   \n",
              "\n",
              "   Depth %  Table %     Polish   Symmetry                        Girdle Culet  \\\n",
              "0     65.8     59.0  Excellent  Very Good               Medium to Thick   NaN   \n",
              "1     62.5     58.0  Very Good  Very Good               Medium to Thick   NaN   \n",
              "2     63.1     63.0  Very Good  Very Good               Medium to Thick   NaN   \n",
              "3     61.7     58.0  Excellent  Excellent  Slightly Thick to Very Thick   NaN   \n",
              "4     69.4     66.0  Excellent  Very Good                         Thick   NaN   \n",
              "\n",
              "   Length  Width  Height  Price           Type Fluorescence  \n",
              "0    7.09   6.95    4.57   2640  GIA Lab-Grown          NaN  \n",
              "1    9.64   5.86    3.66   1070  GIA Lab-Grown          NaN  \n",
              "2    8.44   6.00    3.79   1070  GIA Lab-Grown          NaN  \n",
              "3    5.85   6.89    4.25   7110            GIA        Faint  \n",
              "4    6.80   5.05    3.50   3050            GIA          NaN  "
            ]
          },
          "execution_count": 3,
          "metadata": {},
          "output_type": "execute_result"
        }
      ],
      "source": [
        "df = pd.read_csv(\"/Users/22207865/.cache/kagglehub/datasets/beridzeg45/diamonds-prices-prediction/versions/2/diamonds (cleaned).csv\")\n",
        "df.head()"
      ]
    },
    {
      "cell_type": "code",
      "execution_count": 4,
      "metadata": {
        "colab": {
          "base_uri": "https://localhost:8080/"
        },
        "id": "8DKPWbk-y2Nt",
        "outputId": "76677b02-4a7d-4a6a-92e5-16b3b9e99963"
      },
      "outputs": [
        {
          "data": {
            "text/plain": [
              "Index(['Shape', 'Cut', 'Color', 'Clarity', 'Carat Weight',\n",
              "       'Length/Width Ratio', 'Depth %', 'Table %', 'Polish', 'Symmetry',\n",
              "       'Girdle', 'Culet', 'Length', 'Width', 'Height', 'Price', 'Type',\n",
              "       'Fluorescence'],\n",
              "      dtype='object')"
            ]
          },
          "execution_count": 4,
          "metadata": {},
          "output_type": "execute_result"
        }
      ],
      "source": [
        "df.columns"
      ]
    },
    {
      "cell_type": "markdown",
      "metadata": {
        "id": "X0sgu_5fzb0X"
      },
      "source": [
        "Описание фичей"
      ]
    },
    {
      "cell_type": "markdown",
      "metadata": {
        "id": "SHiLttnNzgXK"
      },
      "source": [
        "- **Shape** - геометрическая форма бриллианта.\n",
        "- **Cut** - Качество огранки бриллианта.\n",
        "- **Color** - Цвет бриллианта от D (бесцветный) до Z.\n",
        "- **Clarity** - степень чистоты, основанная на дефектах.\n",
        "- **Carat Weight** - Вес бриллианта в каратах.\n",
        "- **Length/Width Ratio** - Пропорция длины и ширины.\n",
        "- **Depth %** - глубина ромба в процентах от его ширины.\n",
        "- **Table %** - Ширина верхней грани в процентах.\n",
        "- **Polish** - качество отделки поверхности бриллианта.\n",
        "- **Symmetry** - Точность формы бриллианта.\n",
        "- **Girdle** - Толщина грани бриллианта.\n",
        "- **Culet** - Размер нижней грани.\n",
        "- **Length** - Длина бриллианта в миллиметрах.\n",
        "- **Width** - Ширина ромба в миллиметрах.\n",
        "- **Height** - Высота ромба в миллиметрах.\n",
        "- **Price** - Цена бриллианта в долларах США ($).\n",
        "- **Type** - Сертификация или тип происхождения бриллианта.\n",
        "- **Fluorescence** - уровень УФ-флуоресценции бриллианта.\n",
        "\n",
        "\n",
        "В данной задаче необходимо предсказать цену (Price) бриллианта на основе его характеристик.\n"
      ]
    },
    {
      "cell_type": "code",
      "execution_count": 5,
      "metadata": {
        "id": "tXF3HX1k400A"
      },
      "outputs": [],
      "source": [
        "target_columns = 'Price'\n",
        "\n",
        "X = df.drop(target_columns, axis=1)\n",
        "y = df[target_columns]"
      ]
    },
    {
      "cell_type": "code",
      "execution_count": 6,
      "metadata": {
        "colab": {
          "base_uri": "https://localhost:8080/",
          "height": 734
        },
        "id": "gyK17Ukg3blr",
        "outputId": "a1cdad8b-fba1-419f-e774-2744dcb3e619"
      },
      "outputs": [
        {
          "data": {
            "text/plain": [
              "Shape                  object\n",
              "Cut                    object\n",
              "Color                  object\n",
              "Clarity                object\n",
              "Carat Weight          float64\n",
              "Length/Width Ratio    float64\n",
              "Depth %               float64\n",
              "Table %               float64\n",
              "Polish                 object\n",
              "Symmetry               object\n",
              "Girdle                 object\n",
              "Culet                  object\n",
              "Length                float64\n",
              "Width                 float64\n",
              "Height                float64\n",
              "Price                   int64\n",
              "Type                   object\n",
              "Fluorescence           object\n",
              "dtype: object"
            ]
          },
          "execution_count": 6,
          "metadata": {},
          "output_type": "execute_result"
        }
      ],
      "source": [
        "df.dtypes"
      ]
    },
    {
      "cell_type": "code",
      "execution_count": 7,
      "metadata": {
        "id": "MdAPaz_23bjh"
      },
      "outputs": [],
      "source": [
        "X_train, X_test, y_train, y_test = train_test_split(X, y, test_size=0.2, random_state=42)"
      ]
    },
    {
      "cell_type": "code",
      "execution_count": 8,
      "metadata": {},
      "outputs": [
        {
          "data": {
            "text/plain": [
              "Shape                    5\n",
              "Cut                   3462\n",
              "Color                    5\n",
              "Clarity                  5\n",
              "Carat Weight             5\n",
              "Length/Width Ratio       5\n",
              "Depth %                  7\n",
              "Table %                 14\n",
              "Polish                  17\n",
              "Symmetry                17\n",
              "Girdle                  19\n",
              "Culet                 3668\n",
              "Length                  17\n",
              "Width                   17\n",
              "Height                  17\n",
              "Type                     0\n",
              "Fluorescence          4220\n",
              "dtype: int64"
            ]
          },
          "execution_count": 8,
          "metadata": {},
          "output_type": "execute_result"
        }
      ],
      "source": [
        "# Првоерим пустые значения\n",
        "X_train.isna().sum()"
      ]
    },
    {
      "cell_type": "code",
      "execution_count": 9,
      "metadata": {},
      "outputs": [],
      "source": [
        "category_features = [\"Shape\", \"Cut\", \"Color\", \"Clarity\", \"Polish\", \"Symmetry\", \"Girdle\", \"Culet\", \"Type\", \"Fluorescence\"]\n",
        "numbers_features = set(X_train.columns) - set(category_features)"
      ]
    },
    {
      "cell_type": "code",
      "execution_count": 10,
      "metadata": {},
      "outputs": [],
      "source": [
        "X_train[category_features] = X_train[category_features].fillna(\"Unknown\")\n",
        "X_test[category_features] = X_test[category_features].fillna(\"Unknown\")\n",
        "\n",
        "for num_feature in numbers_features:\n",
        "    median = df[num_feature].median()\n",
        "    X_train[num_feature] = X_train[num_feature].fillna(median)\n",
        "    X_test[num_feature] = X_test[num_feature].fillna(median)"
      ]
    },
    {
      "cell_type": "code",
      "execution_count": 11,
      "metadata": {},
      "outputs": [
        {
          "data": {
            "text/plain": [
              "Shape                 0\n",
              "Cut                   0\n",
              "Color                 0\n",
              "Clarity               0\n",
              "Carat Weight          0\n",
              "Length/Width Ratio    0\n",
              "Depth %               0\n",
              "Table %               0\n",
              "Polish                0\n",
              "Symmetry              0\n",
              "Girdle                0\n",
              "Culet                 0\n",
              "Length                0\n",
              "Width                 0\n",
              "Height                0\n",
              "Type                  0\n",
              "Fluorescence          0\n",
              "dtype: int64"
            ]
          },
          "execution_count": 11,
          "metadata": {},
          "output_type": "execute_result"
        }
      ],
      "source": [
        "# Првоерим пустые значения\n",
        "X_train.isna().sum()"
      ]
    },
    {
      "cell_type": "code",
      "execution_count": 12,
      "metadata": {},
      "outputs": [
        {
          "data": {
            "text/plain": [
              "Shape                  object\n",
              "Cut                    object\n",
              "Color                  object\n",
              "Clarity                object\n",
              "Carat Weight          float64\n",
              "Length/Width Ratio    float64\n",
              "Depth %               float64\n",
              "Table %               float64\n",
              "Polish                 object\n",
              "Symmetry               object\n",
              "Girdle                 object\n",
              "Culet                  object\n",
              "Length                float64\n",
              "Width                 float64\n",
              "Height                float64\n",
              "Type                   object\n",
              "Fluorescence           object\n",
              "dtype: object"
            ]
          },
          "execution_count": 12,
          "metadata": {},
          "output_type": "execute_result"
        }
      ],
      "source": [
        "X_train.dtypes"
      ]
    },
    {
      "cell_type": "markdown",
      "metadata": {
        "id": "LsfwOJ4J5n4d"
      },
      "source": [
        "Учитывая, что данная задача является задачей регрессии я выберу метрику R."
      ]
    },
    {
      "cell_type": "markdown",
      "metadata": {
        "id": "1fkIngEt55mn"
      },
      "source": [
        "# 2.\tСоздание бейзлайна и оценка качества"
      ]
    },
    {
      "cell_type": "code",
      "execution_count": 16,
      "metadata": {},
      "outputs": [
        {
          "name": "stdout",
          "output_type": "stream",
          "text": [
            "=== linear Regressor ===\n",
            "R² (Train): 0.4702\n",
            "R² (Test): 0.2468\n",
            "MSE (Test): 8014647.9544\n"
          ]
        }
      ],
      "source": [
        "preprocessor = ColumnTransformer(\n",
        "    transformers=[\n",
        "        ('cat', OneHotEncoder(handle_unknown='ignore'), category_features)\n",
        "    ]\n",
        ")\n",
        "\n",
        "pipeline_linear = Pipeline(steps=[\n",
        "    ('preprocessor', preprocessor),\n",
        "    ('linear', LinearRegression())\n",
        "])\n",
        "\n",
        "pipeline_linear.fit(X_train, y_train)\n",
        "\n",
        "y_pred_linear_train = pipeline_linear.predict(X_train)\n",
        "y_pred_linear_test = pipeline_linear.predict(X_test)\n",
        "\n",
        "print(\"=== linear Regressor ===\")\n",
        "print(f\"R² (Train): {r2_score(y_train, y_pred_linear_train):.4f}\")\n",
        "print(f\"R² (Test): {r2_score(y_test, y_pred_linear_test):.4f}\")\n",
        "print(f\"MSE (Test): {mean_squared_error(y_test, y_pred_linear_test):.4f}\")"
      ]
    },
    {
      "cell_type": "markdown",
      "metadata": {
        "id": "Yi0m1zsv8ZoR"
      },
      "source": [
        "# 3.\tУлучшение бейзлайна"
      ]
    },
    {
      "cell_type": "code",
      "execution_count": 17,
      "metadata": {
        "colab": {
          "base_uri": "https://localhost:8080/",
          "height": 703
        },
        "id": "Cekj4kmG8iNk",
        "outputId": "89000aae-2996-4d29-9a87-5b5a717c9a02"
      },
      "outputs": [
        {
          "data": {
            "text/plain": [
              "Shape           12\n",
              "Cut              5\n",
              "Color            6\n",
              "Clarity          7\n",
              "Polish           4\n",
              "Symmetry         4\n",
              "Girdle          30\n",
              "Culet            6\n",
              "Type             3\n",
              "Fluorescence     4\n",
              "dtype: int64"
            ]
          },
          "execution_count": 17,
          "metadata": {},
          "output_type": "execute_result"
        }
      ],
      "source": [
        "X_train[category_features].nunique()"
      ]
    },
    {
      "cell_type": "markdown",
      "metadata": {
        "id": "3XZyZTwdl05U"
      },
      "source": [
        "Посмотрим дубликаты"
      ]
    },
    {
      "cell_type": "code",
      "execution_count": 18,
      "metadata": {
        "colab": {
          "base_uri": "https://localhost:8080/"
        },
        "id": "0zDJzHVs92AE",
        "outputId": "68f3f853-b4a3-441f-b58e-2912efdcdbd9"
      },
      "outputs": [
        {
          "data": {
            "text/plain": [
              "3"
            ]
          },
          "execution_count": 18,
          "metadata": {},
          "output_type": "execute_result"
        }
      ],
      "source": [
        "sum(df.duplicated())"
      ]
    },
    {
      "cell_type": "markdown",
      "metadata": {
        "id": "vQNDSlHil2lG"
      },
      "source": [
        "Статистика по фичам"
      ]
    },
    {
      "cell_type": "code",
      "execution_count": 19,
      "metadata": {
        "id": "OIPRGX8g8qxc"
      },
      "outputs": [],
      "source": [
        "numeric_stats = X_train.select_dtypes(include=['number']).describe()\n",
        "category_stats = X_train.select_dtypes(include=['object']).describe()"
      ]
    },
    {
      "cell_type": "code",
      "execution_count": 20,
      "metadata": {
        "colab": {
          "base_uri": "https://localhost:8080/",
          "height": 346
        },
        "id": "M4dn0Oi09DR8",
        "outputId": "1f6242d3-91b1-4a09-d525-7e1a6c5568ad"
      },
      "outputs": [
        {
          "data": {
            "text/html": [
              "<div>\n",
              "<style scoped>\n",
              "    .dataframe tbody tr th:only-of-type {\n",
              "        vertical-align: middle;\n",
              "    }\n",
              "\n",
              "    .dataframe tbody tr th {\n",
              "        vertical-align: top;\n",
              "    }\n",
              "\n",
              "    .dataframe thead th {\n",
              "        text-align: right;\n",
              "    }\n",
              "</style>\n",
              "<table border=\"1\" class=\"dataframe\">\n",
              "  <thead>\n",
              "    <tr style=\"text-align: right;\">\n",
              "      <th></th>\n",
              "      <th>Carat Weight</th>\n",
              "      <th>Length/Width Ratio</th>\n",
              "      <th>Depth %</th>\n",
              "      <th>Table %</th>\n",
              "      <th>Length</th>\n",
              "      <th>Width</th>\n",
              "      <th>Height</th>\n",
              "    </tr>\n",
              "  </thead>\n",
              "  <tbody>\n",
              "    <tr>\n",
              "      <th>count</th>\n",
              "      <td>5188.000000</td>\n",
              "      <td>5188.000000</td>\n",
              "      <td>5188.000000</td>\n",
              "      <td>5188.000000</td>\n",
              "      <td>5188.000000</td>\n",
              "      <td>5188.000000</td>\n",
              "      <td>5188.000000</td>\n",
              "    </tr>\n",
              "    <tr>\n",
              "      <th>mean</th>\n",
              "      <td>1.236120</td>\n",
              "      <td>1.330299</td>\n",
              "      <td>64.166307</td>\n",
              "      <td>61.807055</td>\n",
              "      <td>7.668689</td>\n",
              "      <td>6.100981</td>\n",
              "      <td>3.885235</td>\n",
              "    </tr>\n",
              "    <tr>\n",
              "      <th>std</th>\n",
              "      <td>0.511875</td>\n",
              "      <td>0.325753</td>\n",
              "      <td>4.767243</td>\n",
              "      <td>4.730043</td>\n",
              "      <td>1.673897</td>\n",
              "      <td>1.155131</td>\n",
              "      <td>0.599776</td>\n",
              "    </tr>\n",
              "    <tr>\n",
              "      <th>min</th>\n",
              "      <td>1.000000</td>\n",
              "      <td>1.000000</td>\n",
              "      <td>46.100000</td>\n",
              "      <td>51.000000</td>\n",
              "      <td>5.180000</td>\n",
              "      <td>4.420000</td>\n",
              "      <td>2.670000</td>\n",
              "    </tr>\n",
              "    <tr>\n",
              "      <th>25%</th>\n",
              "      <td>1.010000</td>\n",
              "      <td>1.020000</td>\n",
              "      <td>61.200000</td>\n",
              "      <td>58.000000</td>\n",
              "      <td>6.330000</td>\n",
              "      <td>5.390000</td>\n",
              "      <td>3.460000</td>\n",
              "    </tr>\n",
              "    <tr>\n",
              "      <th>50%</th>\n",
              "      <td>1.030000</td>\n",
              "      <td>1.270000</td>\n",
              "      <td>63.100000</td>\n",
              "      <td>61.000000</td>\n",
              "      <td>7.420000</td>\n",
              "      <td>5.640000</td>\n",
              "      <td>3.670000</td>\n",
              "    </tr>\n",
              "    <tr>\n",
              "      <th>75%</th>\n",
              "      <td>1.200000</td>\n",
              "      <td>1.510000</td>\n",
              "      <td>67.500000</td>\n",
              "      <td>64.000000</td>\n",
              "      <td>8.645000</td>\n",
              "      <td>6.610000</td>\n",
              "      <td>4.100000</td>\n",
              "    </tr>\n",
              "    <tr>\n",
              "      <th>max</th>\n",
              "      <td>9.380000</td>\n",
              "      <td>2.580000</td>\n",
              "      <td>76.600000</td>\n",
              "      <td>78.000000</td>\n",
              "      <td>15.210000</td>\n",
              "      <td>14.880000</td>\n",
              "      <td>8.170000</td>\n",
              "    </tr>\n",
              "  </tbody>\n",
              "</table>\n",
              "</div>"
            ],
            "text/plain": [
              "       Carat Weight  Length/Width Ratio      Depth %      Table %  \\\n",
              "count   5188.000000         5188.000000  5188.000000  5188.000000   \n",
              "mean       1.236120            1.330299    64.166307    61.807055   \n",
              "std        0.511875            0.325753     4.767243     4.730043   \n",
              "min        1.000000            1.000000    46.100000    51.000000   \n",
              "25%        1.010000            1.020000    61.200000    58.000000   \n",
              "50%        1.030000            1.270000    63.100000    61.000000   \n",
              "75%        1.200000            1.510000    67.500000    64.000000   \n",
              "max        9.380000            2.580000    76.600000    78.000000   \n",
              "\n",
              "            Length        Width       Height  \n",
              "count  5188.000000  5188.000000  5188.000000  \n",
              "mean      7.668689     6.100981     3.885235  \n",
              "std       1.673897     1.155131     0.599776  \n",
              "min       5.180000     4.420000     2.670000  \n",
              "25%       6.330000     5.390000     3.460000  \n",
              "50%       7.420000     5.640000     3.670000  \n",
              "75%       8.645000     6.610000     4.100000  \n",
              "max      15.210000    14.880000     8.170000  "
            ]
          },
          "execution_count": 20,
          "metadata": {},
          "output_type": "execute_result"
        }
      ],
      "source": [
        "numeric_stats"
      ]
    },
    {
      "cell_type": "code",
      "execution_count": 21,
      "metadata": {},
      "outputs": [
        {
          "data": {
            "text/html": [
              "<div>\n",
              "<style scoped>\n",
              "    .dataframe tbody tr th:only-of-type {\n",
              "        vertical-align: middle;\n",
              "    }\n",
              "\n",
              "    .dataframe tbody tr th {\n",
              "        vertical-align: top;\n",
              "    }\n",
              "\n",
              "    .dataframe thead th {\n",
              "        text-align: right;\n",
              "    }\n",
              "</style>\n",
              "<table border=\"1\" class=\"dataframe\">\n",
              "  <thead>\n",
              "    <tr style=\"text-align: right;\">\n",
              "      <th></th>\n",
              "      <th>Shape</th>\n",
              "      <th>Cut</th>\n",
              "      <th>Color</th>\n",
              "      <th>Clarity</th>\n",
              "      <th>Polish</th>\n",
              "      <th>Symmetry</th>\n",
              "      <th>Girdle</th>\n",
              "      <th>Culet</th>\n",
              "      <th>Type</th>\n",
              "      <th>Fluorescence</th>\n",
              "    </tr>\n",
              "  </thead>\n",
              "  <tbody>\n",
              "    <tr>\n",
              "      <th>count</th>\n",
              "      <td>5188</td>\n",
              "      <td>5188</td>\n",
              "      <td>5188</td>\n",
              "      <td>5188</td>\n",
              "      <td>5188</td>\n",
              "      <td>5188</td>\n",
              "      <td>5188</td>\n",
              "      <td>5188</td>\n",
              "      <td>5188</td>\n",
              "      <td>5188</td>\n",
              "    </tr>\n",
              "    <tr>\n",
              "      <th>unique</th>\n",
              "      <td>12</td>\n",
              "      <td>5</td>\n",
              "      <td>6</td>\n",
              "      <td>7</td>\n",
              "      <td>4</td>\n",
              "      <td>4</td>\n",
              "      <td>30</td>\n",
              "      <td>6</td>\n",
              "      <td>3</td>\n",
              "      <td>4</td>\n",
              "    </tr>\n",
              "    <tr>\n",
              "      <th>top</th>\n",
              "      <td>Round</td>\n",
              "      <td>Unknown</td>\n",
              "      <td>E</td>\n",
              "      <td>VS1</td>\n",
              "      <td>Excellent</td>\n",
              "      <td>Excellent</td>\n",
              "      <td>Medium to Slightly Thick</td>\n",
              "      <td>Unknown</td>\n",
              "      <td>GIA</td>\n",
              "      <td>Unknown</td>\n",
              "    </tr>\n",
              "    <tr>\n",
              "      <th>freq</th>\n",
              "      <td>709</td>\n",
              "      <td>3462</td>\n",
              "      <td>1503</td>\n",
              "      <td>2697</td>\n",
              "      <td>4752</td>\n",
              "      <td>3619</td>\n",
              "      <td>1364</td>\n",
              "      <td>3668</td>\n",
              "      <td>2681</td>\n",
              "      <td>4220</td>\n",
              "    </tr>\n",
              "  </tbody>\n",
              "</table>\n",
              "</div>"
            ],
            "text/plain": [
              "        Shape      Cut Color Clarity     Polish   Symmetry  \\\n",
              "count    5188     5188  5188    5188       5188       5188   \n",
              "unique     12        5     6       7          4          4   \n",
              "top     Round  Unknown     E     VS1  Excellent  Excellent   \n",
              "freq      709     3462  1503    2697       4752       3619   \n",
              "\n",
              "                          Girdle    Culet  Type Fluorescence  \n",
              "count                       5188     5188  5188         5188  \n",
              "unique                        30        6     3            4  \n",
              "top     Medium to Slightly Thick  Unknown   GIA      Unknown  \n",
              "freq                        1364     3668  2681         4220  "
            ]
          },
          "execution_count": 21,
          "metadata": {},
          "output_type": "execute_result"
        }
      ],
      "source": [
        "category_stats"
      ]
    },
    {
      "cell_type": "markdown",
      "metadata": {},
      "source": [
        "Есть предположение, что если мы уберем малозначимые признаки относительно корреляции, то мы сможем улучшить качество"
      ]
    },
    {
      "cell_type": "code",
      "execution_count": 23,
      "metadata": {
        "id": "LJ58CWB0Dvrf"
      },
      "outputs": [
        {
          "data": {
            "text/plain": [
              "['Table %']"
            ]
          },
          "execution_count": 23,
          "metadata": {},
          "output_type": "execute_result"
        }
      ],
      "source": [
        "corr_df = pd.concat([X_train[list(numbers_features)], y_train], axis=1).corr()\n",
        "bad_columns = list(corr_df[corr_df[\"Price\"].abs() < 0.1].index)\n",
        "bad_columns"
      ]
    },
    {
      "cell_type": "markdown",
      "metadata": {
        "id": "G-t5NPX6Ff4D"
      },
      "source": [
        "Уберем признаки где много Unknown"
      ]
    },
    {
      "cell_type": "code",
      "execution_count": 24,
      "metadata": {},
      "outputs": [],
      "source": [
        "bad_columns = bad_columns + [\"Fluorescence\", \"Cut\"]"
      ]
    },
    {
      "cell_type": "code",
      "execution_count": 25,
      "metadata": {
        "id": "ZNLlTDIPFKvt"
      },
      "outputs": [],
      "source": [
        "X_train_filtered = X_train.drop(columns=bad_columns)\n",
        "X_test_filtered = X_test.drop(columns=bad_columns)"
      ]
    },
    {
      "cell_type": "code",
      "execution_count": 26,
      "metadata": {
        "colab": {
          "base_uri": "https://localhost:8080/",
          "height": 1000
        },
        "id": "x_DTubGTHhKx",
        "outputId": "b664e99a-1794-4c76-8723-4fe214ea9fa5"
      },
      "outputs": [
        {
          "data": {
            "image/png": "[encoded data removed]",
            "text/plain": [
              "<Figure size 1000x1000 with 2 Axes>"
            ]
          },
          "metadata": {},
          "output_type": "display_data"
        }
      ],
      "source": [
        "plot_phik_correlation_matrix(pd.concat([X_train_filtered[list(numbers_features - set(bad_columns))], y_train], axis=1), list(numbers_features - set(bad_columns)), figsize=(10, 10))"
      ]
    },
    {
      "cell_type": "markdown",
      "metadata": {
        "id": "4crXc2KBJ2Mn"
      },
      "source": [
        "Обучим модель с улучшенным бейзлайном"
      ]
    },
    {
      "cell_type": "code",
      "execution_count": 28,
      "metadata": {
        "colab": {
          "base_uri": "https://localhost:8080/"
        },
        "id": "dDVe7RlCGgXu",
        "outputId": "4343e0ab-7e36-4cca-9aa4-88cdc059f4c0"
      },
      "outputs": [
        {
          "name": "stdout",
          "output_type": "stream",
          "text": [
            "=== linear Regressor ===\n",
            "R² (Train): 0.7345\n",
            "R² (Test): 0.6461\n",
            "MSE (Test): 3765330.2011\n"
          ]
        }
      ],
      "source": [
        "preprocessor = ColumnTransformer(\n",
        "    transformers=[\n",
        "        ('num', StandardScaler(), list(numbers_features - set(bad_columns))),\n",
        "        ('cat', OneHotEncoder(handle_unknown='ignore'), list(set(category_features) - set(bad_columns)))\n",
        "    ]\n",
        ")\n",
        "\n",
        "pipeline_linear = Pipeline(steps=[\n",
        "    ('preprocessor', preprocessor),\n",
        "    ('linear', LinearRegression())\n",
        "])\n",
        "\n",
        "pipeline_linear.fit(X_train_filtered, y_train)\n",
        "\n",
        "y_pred_linear_train = pipeline_linear.predict(X_train_filtered)\n",
        "y_pred_linear_test = pipeline_linear.predict(X_test_filtered)\n",
        "\n",
        "print(\"=== linear Regressor ===\")\n",
        "print(f\"R² (Train): {r2_score(y_train, y_pred_linear_train):.4f}\")\n",
        "print(f\"R² (Test): {r2_score(y_test, y_pred_linear_test):.4f}\")\n",
        "print(f\"MSE (Test): {mean_squared_error(y_test, y_pred_linear_test):.4f}\")\n"
      ]
    },
    {
      "cell_type": "markdown",
      "metadata": {
        "id": "qDjmhMkzNizz"
      },
      "source": [
        "# 4. Своя имплементация LinearRegression"
      ]
    },
    {
      "cell_type": "code",
      "execution_count": 29,
      "metadata": {},
      "outputs": [],
      "source": [
        "import sys\n",
        "from pathlib import Path\n",
        "\n",
        "project_root = Path().resolve().parent\n",
        "sys.path.append(str(project_root))\n",
        "\n",
        "from implementations import MyLinearRegression"
      ]
    },
    {
      "cell_type": "code",
      "execution_count": 31,
      "metadata": {
        "colab": {
          "base_uri": "https://localhost:8080/"
        },
        "id": "19VCQ1TSOfVa",
        "outputId": "fda22644-d057-47b9-cee9-41d4fbef29b2"
      },
      "outputs": [
        {
          "name": "stdout",
          "output_type": "stream",
          "text": [
            "=== linear Regressor ===\n",
            "R² (Train): 0.3901\n",
            "R² (Test): 0.3747\n",
            "MSE (Test): 6654174.6025\n"
          ]
        }
      ],
      "source": [
        "preprocessor = ColumnTransformer(\n",
        "    transformers=[\n",
        "        ('cat', OneHotEncoder(handle_unknown='ignore', sparse_output=False), category_features)\n",
        "    ]\n",
        ")\n",
        "\n",
        "linear_pipeline = Pipeline(steps=[\n",
        "    ('preprocessor', preprocessor),\n",
        "    ('linear', MyLinearRegression())\n",
        "])\n",
        "\n",
        "linear_pipeline.fit(X_train, y_train)\n",
        "\n",
        "y_pred_linear_train = linear_pipeline.predict(X_train)\n",
        "y_pred_linear_test = linear_pipeline.predict(X_test)\n",
        "\n",
        "print(\"=== linear Regressor ===\")\n",
        "print(f\"R² (Train): {r2_score(y_train, y_pred_linear_train):.4f}\")\n",
        "print(f\"R² (Test): {r2_score(y_test, y_pred_linear_test):.4f}\")\n",
        "print(f\"MSE (Test): {mean_squared_error(y_test, y_pred_linear_test):.4f}\")"
      ]
    },
    {
      "cell_type": "code",
      "execution_count": 34,
      "metadata": {
        "colab": {
          "base_uri": "https://localhost:8080/"
        },
        "id": "Em_9gzGfN0CW",
        "outputId": "128b3873-9acf-4cb4-a78e-68e5d49f4b91"
      },
      "outputs": [
        {
          "name": "stdout",
          "output_type": "stream",
          "text": [
            "=== linear Regressor ===\n",
            "R² (Train): 0.6796\n",
            "R² (Test): 0.6726\n",
            "MSE (Test): 3483701.8557\n"
          ]
        }
      ],
      "source": [
        "preprocessor = ColumnTransformer(\n",
        "    transformers=[\n",
        "        ('num', StandardScaler(), list(numbers_features - set(bad_columns))),\n",
        "        ('cat', OneHotEncoder(handle_unknown='ignore', sparse_output=False), list(set(category_features) - set(bad_columns)))\n",
        "    ]\n",
        ")\n",
        "\n",
        "linear_pipeline = Pipeline(steps=[\n",
        "    ('preprocessor', preprocessor),\n",
        "    ('linear', MyLinearRegression(n_iterations=1000, learning_rate=0.03))\n",
        "])\n",
        "\n",
        "linear_pipeline.fit(X_train_filtered, y_train)\n",
        "y_pred_linear_train = linear_pipeline.predict(X_train_filtered)\n",
        "y_pred_linear_test = linear_pipeline.predict(X_test_filtered)\n",
        "\n",
        "print(\"=== linear Regressor ===\")\n",
        "print(f\"R² (Train): {r2_score(y_train, y_pred_linear_train):.4f}\")\n",
        "print(f\"R² (Test): {r2_score(y_test, y_pred_linear_test):.4f}\")\n",
        "print(f\"MSE (Test): {mean_squared_error(y_test, y_pred_linear_test):.4f}\")"
      ]
    },
    {
      "cell_type": "markdown",
      "metadata": {
        "id": "gWJC_IzUxVM6"
      },
      "source": [
        "Моя имплементация схожа с результатами как и реализация KNN в sklearn.\n",
        "\n",
        "В ходе анализа данных можно понять что некоторые признаки влияют на целевую переменную больше чем остальные"
      ]
    }
  ],
  "metadata": {
    "colab": {
      "provenance": []
    },
    "kernelspec": {
      "display_name": "Python 3",
      "name": "python3"
    },
    "language_info": {
      "codemirror_mode": {
        "name": "ipython",
        "version": 3
      },
      "file_extension": ".py",
      "mimetype": "text/x-python",
      "name": "python",
      "nbconvert_exporter": "python",
      "pygments_lexer": "ipython3",
      "version": "3.12.0"
    }
  },
  "nbformat": 4,
  "nbformat_minor": 0
}
