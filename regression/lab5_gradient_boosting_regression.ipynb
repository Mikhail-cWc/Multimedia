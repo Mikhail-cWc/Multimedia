{
  "cells": [
    {
      "cell_type": "markdown",
      "metadata": {
        "id": "Pxp3xzjgygqV"
      },
      "source": [
        "# 1.\tВыбор начальных условий"
      ]
    },
    {
      "cell_type": "code",
      "execution_count": 1,
      "metadata": {
        "id": "N-BBOjdOzHzp"
      },
      "outputs": [
        {
          "name": "stderr",
          "output_type": "stream",
          "text": [
            "/Users/22207865/Desktop/multi/Multimedia/.venv/lib/python3.12/site-packages/tqdm/auto.py:21: TqdmWarning: IProgress not found. Please update jupyter and ipywidgets. See https://ipywidgets.readthedocs.io/en/stable/user_install.html\n",
            "  from .autonotebook import tqdm as notebook_tqdm\n"
          ]
        }
      ],
      "source": [
        "import kagglehub\n",
        "import pandas as pd\n",
        "import numpy as np\n",
        "\n",
        "from sklearn.model_selection import train_test_split\n",
        "from sklearn.preprocessing import OneHotEncoder, StandardScaler, MinMaxScaler\n",
        "from sklearn.compose import ColumnTransformer\n",
        "from sklearn.pipeline import Pipeline\n",
        "from sklearn.metrics import classification_report, accuracy_score\n",
        "from sklearn.ensemble import GradientBoostingClassifier\n",
        "import warnings\n",
        "\n",
        "warnings.filterwarnings(\"ignore\")"
      ]
    },
    {
      "cell_type": "code",
      "execution_count": 28,
      "metadata": {
        "colab": {
          "base_uri": "https://localhost:8080/"
        },
        "id": "0A6ozp4Mxib7",
        "outputId": "9ab9ba87-7b2e-4238-f903-de24b6128e22"
      },
      "outputs": [
        {
          "name": "stdout",
          "output_type": "stream",
          "text": [
            "Warning: Looks like you're using an outdated `kagglehub` version (installed: 0.3.5), please consider upgrading to the latest version (0.3.6).\n",
            "Path to dataset files: /root/.cache/kagglehub/datasets/iabhishekofficial/mobile-price-classification/versions/1\n"
          ]
        }
      ],
      "source": [
        "path = kagglehub.dataset_download(\"iabhishekofficial/mobile-price-classification\")\n",
        "\n",
        "print(\"Path to dataset files:\", path)"
      ]
    },
    {
      "cell_type": "code",
      "execution_count": 29,
      "metadata": {
        "colab": {
          "base_uri": "https://localhost:8080/"
        },
        "id": "8nsU-WE6y4np",
        "outputId": "898e150a-c54c-4e67-b974-2983a62e550f"
      },
      "outputs": [
        {
          "name": "stdout",
          "output_type": "stream",
          "text": [
            "test.csv  train.csv\n"
          ]
        }
      ],
      "source": [
        "!ls /root/.cache/kagglehub/datasets/iabhishekofficial/mobile-price-classification/versions/1"
      ]
    },
    {
      "cell_type": "code",
      "execution_count": 2,
      "metadata": {
        "colab": {
          "base_uri": "https://localhost:8080/",
          "height": 253
        },
        "id": "y6wq890nxiYR",
        "outputId": "25d0ecc4-f6b6-46d9-a4c8-2ef9b0b5e107"
      },
      "outputs": [
        {
          "data": {
            "text/html": [
              "<div>\n",
              "<style scoped>\n",
              "    .dataframe tbody tr th:only-of-type {\n",
              "        vertical-align: middle;\n",
              "    }\n",
              "\n",
              "    .dataframe tbody tr th {\n",
              "        vertical-align: top;\n",
              "    }\n",
              "\n",
              "    .dataframe thead th {\n",
              "        text-align: right;\n",
              "    }\n",
              "</style>\n",
              "<table border=\"1\" class=\"dataframe\">\n",
              "  <thead>\n",
              "    <tr style=\"text-align: right;\">\n",
              "      <th></th>\n",
              "      <th>battery_power</th>\n",
              "      <th>blue</th>\n",
              "      <th>clock_speed</th>\n",
              "      <th>dual_sim</th>\n",
              "      <th>fc</th>\n",
              "      <th>four_g</th>\n",
              "      <th>int_memory</th>\n",
              "      <th>m_dep</th>\n",
              "      <th>mobile_wt</th>\n",
              "      <th>n_cores</th>\n",
              "      <th>...</th>\n",
              "      <th>px_height</th>\n",
              "      <th>px_width</th>\n",
              "      <th>ram</th>\n",
              "      <th>sc_h</th>\n",
              "      <th>sc_w</th>\n",
              "      <th>talk_time</th>\n",
              "      <th>three_g</th>\n",
              "      <th>touch_screen</th>\n",
              "      <th>wifi</th>\n",
              "      <th>price_range</th>\n",
              "    </tr>\n",
              "  </thead>\n",
              "  <tbody>\n",
              "    <tr>\n",
              "      <th>0</th>\n",
              "      <td>842</td>\n",
              "      <td>0</td>\n",
              "      <td>2.2</td>\n",
              "      <td>0</td>\n",
              "      <td>1</td>\n",
              "      <td>0</td>\n",
              "      <td>7</td>\n",
              "      <td>0.6</td>\n",
              "      <td>188</td>\n",
              "      <td>2</td>\n",
              "      <td>...</td>\n",
              "      <td>20</td>\n",
              "      <td>756</td>\n",
              "      <td>2549</td>\n",
              "      <td>9</td>\n",
              "      <td>7</td>\n",
              "      <td>19</td>\n",
              "      <td>0</td>\n",
              "      <td>0</td>\n",
              "      <td>1</td>\n",
              "      <td>1</td>\n",
              "    </tr>\n",
              "    <tr>\n",
              "      <th>1</th>\n",
              "      <td>1021</td>\n",
              "      <td>1</td>\n",
              "      <td>0.5</td>\n",
              "      <td>1</td>\n",
              "      <td>0</td>\n",
              "      <td>1</td>\n",
              "      <td>53</td>\n",
              "      <td>0.7</td>\n",
              "      <td>136</td>\n",
              "      <td>3</td>\n",
              "      <td>...</td>\n",
              "      <td>905</td>\n",
              "      <td>1988</td>\n",
              "      <td>2631</td>\n",
              "      <td>17</td>\n",
              "      <td>3</td>\n",
              "      <td>7</td>\n",
              "      <td>1</td>\n",
              "      <td>1</td>\n",
              "      <td>0</td>\n",
              "      <td>2</td>\n",
              "    </tr>\n",
              "    <tr>\n",
              "      <th>2</th>\n",
              "      <td>563</td>\n",
              "      <td>1</td>\n",
              "      <td>0.5</td>\n",
              "      <td>1</td>\n",
              "      <td>2</td>\n",
              "      <td>1</td>\n",
              "      <td>41</td>\n",
              "      <td>0.9</td>\n",
              "      <td>145</td>\n",
              "      <td>5</td>\n",
              "      <td>...</td>\n",
              "      <td>1263</td>\n",
              "      <td>1716</td>\n",
              "      <td>2603</td>\n",
              "      <td>11</td>\n",
              "      <td>2</td>\n",
              "      <td>9</td>\n",
              "      <td>1</td>\n",
              "      <td>1</td>\n",
              "      <td>0</td>\n",
              "      <td>2</td>\n",
              "    </tr>\n",
              "    <tr>\n",
              "      <th>3</th>\n",
              "      <td>615</td>\n",
              "      <td>1</td>\n",
              "      <td>2.5</td>\n",
              "      <td>0</td>\n",
              "      <td>0</td>\n",
              "      <td>0</td>\n",
              "      <td>10</td>\n",
              "      <td>0.8</td>\n",
              "      <td>131</td>\n",
              "      <td>6</td>\n",
              "      <td>...</td>\n",
              "      <td>1216</td>\n",
              "      <td>1786</td>\n",
              "      <td>2769</td>\n",
              "      <td>16</td>\n",
              "      <td>8</td>\n",
              "      <td>11</td>\n",
              "      <td>1</td>\n",
              "      <td>0</td>\n",
              "      <td>0</td>\n",
              "      <td>2</td>\n",
              "    </tr>\n",
              "    <tr>\n",
              "      <th>4</th>\n",
              "      <td>1821</td>\n",
              "      <td>1</td>\n",
              "      <td>1.2</td>\n",
              "      <td>0</td>\n",
              "      <td>13</td>\n",
              "      <td>1</td>\n",
              "      <td>44</td>\n",
              "      <td>0.6</td>\n",
              "      <td>141</td>\n",
              "      <td>2</td>\n",
              "      <td>...</td>\n",
              "      <td>1208</td>\n",
              "      <td>1212</td>\n",
              "      <td>1411</td>\n",
              "      <td>8</td>\n",
              "      <td>2</td>\n",
              "      <td>15</td>\n",
              "      <td>1</td>\n",
              "      <td>1</td>\n",
              "      <td>0</td>\n",
              "      <td>1</td>\n",
              "    </tr>\n",
              "  </tbody>\n",
              "</table>\n",
              "<p>5 rows × 21 columns</p>\n",
              "</div>"
            ],
            "text/plain": [
              "   battery_power  blue  clock_speed  dual_sim  fc  four_g  int_memory  m_dep  \\\n",
              "0            842     0          2.2         0   1       0           7    0.6   \n",
              "1           1021     1          0.5         1   0       1          53    0.7   \n",
              "2            563     1          0.5         1   2       1          41    0.9   \n",
              "3            615     1          2.5         0   0       0          10    0.8   \n",
              "4           1821     1          1.2         0  13       1          44    0.6   \n",
              "\n",
              "   mobile_wt  n_cores  ...  px_height  px_width   ram  sc_h  sc_w  talk_time  \\\n",
              "0        188        2  ...         20       756  2549     9     7         19   \n",
              "1        136        3  ...        905      1988  2631    17     3          7   \n",
              "2        145        5  ...       1263      1716  2603    11     2          9   \n",
              "3        131        6  ...       1216      1786  2769    16     8         11   \n",
              "4        141        2  ...       1208      1212  1411     8     2         15   \n",
              "\n",
              "   three_g  touch_screen  wifi  price_range  \n",
              "0        0             0     1            1  \n",
              "1        1             1     0            2  \n",
              "2        1             1     0            2  \n",
              "3        1             0     0            2  \n",
              "4        1             1     0            1  \n",
              "\n",
              "[5 rows x 21 columns]"
            ]
          },
          "execution_count": 2,
          "metadata": {},
          "output_type": "execute_result"
        }
      ],
      "source": [
        "df = pd.read_csv(\"/Users/22207865/.cache/kagglehub/datasets/iabhishekofficial/mobile-price-classification/versions/1/train.csv\")\n",
        "df.head()"
      ]
    },
    {
      "cell_type": "code",
      "execution_count": 3,
      "metadata": {
        "colab": {
          "base_uri": "https://localhost:8080/"
        },
        "id": "8DKPWbk-y2Nt",
        "outputId": "3d0357a8-cb13-4339-c80f-0f31c1f56a79"
      },
      "outputs": [
        {
          "data": {
            "text/plain": [
              "Index(['battery_power', 'blue', 'clock_speed', 'dual_sim', 'fc', 'four_g',\n",
              "       'int_memory', 'm_dep', 'mobile_wt', 'n_cores', 'pc', 'px_height',\n",
              "       'px_width', 'ram', 'sc_h', 'sc_w', 'talk_time', 'three_g',\n",
              "       'touch_screen', 'wifi', 'price_range'],\n",
              "      dtype='object')"
            ]
          },
          "execution_count": 3,
          "metadata": {},
          "output_type": "execute_result"
        }
      ],
      "source": [
        "df.columns"
      ]
    },
    {
      "cell_type": "markdown",
      "metadata": {
        "id": "X0sgu_5fzb0X"
      },
      "source": [
        "Описание фичей"
      ]
    },
    {
      "cell_type": "markdown",
      "metadata": {
        "id": "SHiLttnNzgXK"
      },
      "source": [
        "- **battery_power** - Общая энергия, которую аккумулятор может хранить за один раз, измеряется в мАч.\n",
        "- **blue** - Есть Bluetooth или нет\n",
        "- **clock_speed** - Скорость, с которой микропроцессор выполняет инструкции\n",
        "- **dual_sim** - Имеет поддержку двух SIM-карт или нет\n",
        "- **fc** - Мегапиксельная передняя камера\n",
        "- **four_g** - Есть 4G или нет\n",
        "- **int_memory** - Внутренняя память в гигабайтах\n",
        "- **m_dep** - Глубина мобильного телефона в см\n",
        "- **mobile_wt** - Вес мобильного телефона\n",
        "- **n_cores** - Количество ядер процессора\n",
        "- **pc** - Мегапиксели основной камеры\n",
        "- **px_height** - Разрешение пикселей Высота\n",
        "- **px_width** - Разрешение пикселей Ширина\n",
        "- **ram** - Оперативная память в мегабайтах\n",
        "- **sc_h** - Экран Высота мобильного телефона в см\n",
        "- **sc_w** - Ширина экрана мобильного телефона в см\n",
        "- **talk_time** - максимальное время, в течение которого будет работать один заряд батареи, когда вы находитесь\n",
        "- **three_g** - Есть 3G или нет\n",
        "- **touch_screen** - Есть сенсорный экран или нет\n",
        "- **wifi** - Есть Wi-Fi или нет\n",
        "- **price_range** - Это целевая переменная со значением 0 (низкая стоимость), 1 (средняя стоимость), 2 (высокая стоимость) и 3 (очень высокая стоимость).\n",
        "\n",
        "\n",
        "В данной задаче необходимо классифицировать объект (телефон), который состоит их набора характеристик по трем классам price_range со значением 0 (низкая стоимость), 1 (средняя стоимость), 2 (высокая стоимость) и 3 (очень высокая стоимость).\n",
        "\n",
        "Довольно актуальная задача для ценообразования и выбора хорошого телефона по характеристикам.\n",
        "\n"
      ]
    },
    {
      "cell_type": "code",
      "execution_count": 4,
      "metadata": {
        "id": "tXF3HX1k400A"
      },
      "outputs": [],
      "source": [
        "target_columns = 'price_range'\n",
        "\n",
        "X = df.drop(target_columns, axis=1)\n",
        "y = df[target_columns]"
      ]
    },
    {
      "cell_type": "code",
      "execution_count": 5,
      "metadata": {
        "colab": {
          "base_uri": "https://localhost:8080/",
          "height": 734
        },
        "id": "gyK17Ukg3blr",
        "outputId": "9bf2b2ab-7b33-434a-c2e6-5768e549099a"
      },
      "outputs": [
        {
          "data": {
            "text/plain": [
              "battery_power      int64\n",
              "blue               int64\n",
              "clock_speed      float64\n",
              "dual_sim           int64\n",
              "fc                 int64\n",
              "four_g             int64\n",
              "int_memory         int64\n",
              "m_dep            float64\n",
              "mobile_wt          int64\n",
              "n_cores            int64\n",
              "pc                 int64\n",
              "px_height          int64\n",
              "px_width           int64\n",
              "ram                int64\n",
              "sc_h               int64\n",
              "sc_w               int64\n",
              "talk_time          int64\n",
              "three_g            int64\n",
              "touch_screen       int64\n",
              "wifi               int64\n",
              "price_range        int64\n",
              "dtype: object"
            ]
          },
          "execution_count": 5,
          "metadata": {},
          "output_type": "execute_result"
        }
      ],
      "source": [
        "df.dtypes"
      ]
    },
    {
      "cell_type": "code",
      "execution_count": 6,
      "metadata": {
        "id": "MdAPaz_23bjh"
      },
      "outputs": [],
      "source": [
        "X_train, X_test, y_train, y_test = train_test_split(X, y, test_size=0.2, random_state=42, stratify=y)"
      ]
    },
    {
      "cell_type": "code",
      "execution_count": 7,
      "metadata": {
        "colab": {
          "base_uri": "https://localhost:8080/",
          "height": 238
        },
        "id": "v_fPCDSD5jGH",
        "outputId": "49ce1558-54e2-4d64-d0cf-2a0ad4e8a0f5"
      },
      "outputs": [
        {
          "data": {
            "text/plain": [
              "price_range\n",
              "1    400\n",
              "0    400\n",
              "3    400\n",
              "2    400\n",
              "Name: count, dtype: int64"
            ]
          },
          "execution_count": 7,
          "metadata": {},
          "output_type": "execute_result"
        }
      ],
      "source": [
        "y_train.value_counts()"
      ]
    },
    {
      "cell_type": "code",
      "execution_count": 8,
      "metadata": {
        "colab": {
          "base_uri": "https://localhost:8080/",
          "height": 238
        },
        "id": "npKOa1Zm3bhQ",
        "outputId": "9132f13c-078c-4c2e-c9be-948bb901e0f1"
      },
      "outputs": [
        {
          "data": {
            "text/plain": [
              "price_range\n",
              "3    100\n",
              "1    100\n",
              "0    100\n",
              "2    100\n",
              "Name: count, dtype: int64"
            ]
          },
          "execution_count": 8,
          "metadata": {},
          "output_type": "execute_result"
        }
      ],
      "source": [
        "y_test.value_counts()"
      ]
    },
    {
      "cell_type": "markdown",
      "metadata": {
        "id": "LsfwOJ4J5n4d"
      },
      "source": [
        "Учитывая что все классы распределены равномерно и нет перевеса в пользу какого-то, то очевидным и верным решением будет использовать метрику **Accuracy**"
      ]
    },
    {
      "cell_type": "markdown",
      "metadata": {
        "id": "1fkIngEt55mn"
      },
      "source": [
        "# 2.\tСоздание бейзлайна и оценка качества"
      ]
    },
    {
      "cell_type": "markdown",
      "metadata": {
        "id": "ff_vMYvkzo7m"
      },
      "source": [
        "GradientBoostingClassifier"
      ]
    },
    {
      "cell_type": "code",
      "execution_count": 9,
      "metadata": {
        "colab": {
          "base_uri": "https://localhost:8080/"
        },
        "id": "x5T0m3iyzOsg",
        "outputId": "61cf0c9a-cd2e-41c9-d929-0b858a60bf43"
      },
      "outputs": [
        {
          "name": "stdout",
          "output_type": "stream",
          "text": [
            "=== GradientBoosting Классификатор ===\n",
            "Accuracy: 0.915\n",
            "Classification Report:\n",
            "               precision    recall  f1-score   support\n",
            "\n",
            "           0       0.95      0.99      0.97       100\n",
            "           1       0.91      0.86      0.88       100\n",
            "           2       0.85      0.87      0.86       100\n",
            "           3       0.95      0.94      0.94       100\n",
            "\n",
            "    accuracy                           0.92       400\n",
            "   macro avg       0.91      0.92      0.91       400\n",
            "weighted avg       0.91      0.92      0.91       400\n",
            "\n"
          ]
        }
      ],
      "source": [
        "pipeline_tree = Pipeline(steps=[\n",
        "    ('grad_boosting', GradientBoostingClassifier(random_state=12))\n",
        "])\n",
        "\n",
        "pipeline_tree.fit(X_train, y_train)\n",
        "y_pred_grad_boosting = pipeline_tree.predict(X_test)\n",
        "\n",
        "print(\"=== GradientBoosting Классификатор ===\")\n",
        "print(\"Accuracy:\", accuracy_score(y_test, y_pred_grad_boosting))\n",
        "print(\"Classification Report:\\n\", classification_report(y_test, y_pred_grad_boosting))\n"
      ]
    },
    {
      "cell_type": "markdown",
      "metadata": {
        "id": "Yi0m1zsv8ZoR"
      },
      "source": [
        "# 3.\tУлучшение бейзлайна"
      ]
    },
    {
      "cell_type": "markdown",
      "metadata": {
        "id": "-gFUbjFjzto1"
      },
      "source": [
        "Некоторые проверки были сделаны в ноутбуке с KNN"
      ]
    },
    {
      "cell_type": "markdown",
      "metadata": {
        "id": "rSEA-4sCl4Ts"
      },
      "source": [
        "Добавим фичи в зависимости от других параметров:\n",
        "\n",
        "Плотность пикселей\n",
        "$$\n",
        "ppi = \\frac{\\sqrt{px\\_height^2 + px\\_width^2}}{\\sqrt{sc\\_h^2 + sc\\_w^2}}\n",
        "$$\n",
        "\n",
        "Эффективность батареи\n",
        "\n",
        "$$\n",
        "battery\\_efficiency = \\frac{battery\\_power}{mobile\\_wt}\n",
        "$$\n",
        "\n",
        "Размер экрана\n",
        "$$\n",
        "screen\\_size = sc\\_h \\cdot sc\\_w\n",
        "$$\n",
        "\n",
        "Оперативная на ядро\n",
        "$$\n",
        "ram\\_per\\_core = \\frac{ram}{n\\_cores}\n",
        "$$\n",
        "\n",
        "Общая память\n",
        "$$\n",
        "total\\_memory = int\\_memory + ram\n",
        "$$\n",
        "\n"
      ]
    },
    {
      "cell_type": "code",
      "execution_count": 10,
      "metadata": {
        "id": "jjp5z5S-nOP6"
      },
      "outputs": [],
      "source": [
        "X_trainV2 = X_train.copy()\n",
        "X_testV2 = X_test.copy()\n",
        "X_trainV2[\"ppi\"] = np.sqrt((X_train[\"px_height\"]**2 + X_train[\"px_width\"]**2)) / np.sqrt((X_train[\"sc_h\"]**2 + X_train[\"sc_w\"]**2))\n",
        "X_trainV2[\"battery_efficiency\"] = X_train[\"battery_power\"] / X_train[\"mobile_wt\"]\n",
        "X_trainV2[\"screen_size\"] = X_train[\"sc_h\"] * X_train[\"sc_w\"]\n",
        "X_trainV2[\"ram_per_core\"] = X_train[\"ram\"] / X_train[\"n_cores\"]\n",
        "X_trainV2[\"total_memory\"] = X_train[\"int_memory\"] + X_train[\"ram\"]\n",
        "\n",
        "X_testV2[\"ppi\"] = np.sqrt((X_test[\"px_height\"]**2 + X_test[\"px_width\"]**2)) / np.sqrt((X_test[\"sc_h\"]**2 + X_test[\"sc_w\"]**2))\n",
        "X_testV2[\"battery_efficiency\"] = X_test[\"battery_power\"] / X_test[\"mobile_wt\"]\n",
        "X_testV2[\"screen_size\"] = X_test[\"sc_h\"] * X_test[\"sc_w\"]\n",
        "X_testV2[\"ram_per_core\"] = X_test[\"ram\"] / X_test[\"n_cores\"]\n",
        "X_testV2[\"total_memory\"] = X_test[\"int_memory\"] + X_test[\"ram\"]"
      ]
    },
    {
      "cell_type": "markdown",
      "metadata": {
        "id": "vQNDSlHil2lG"
      },
      "source": [
        "Статистика по фичам"
      ]
    },
    {
      "cell_type": "code",
      "execution_count": 11,
      "metadata": {
        "id": "OIPRGX8g8qxc"
      },
      "outputs": [],
      "source": [
        "numeric_stats = X_trainV2.select_dtypes(include=['number']).describe()"
      ]
    },
    {
      "cell_type": "code",
      "execution_count": 12,
      "metadata": {
        "colab": {
          "base_uri": "https://localhost:8080/",
          "height": 346
        },
        "id": "M4dn0Oi09DR8",
        "outputId": "cc7f6379-ba9b-4352-aca7-b7067f7e1780"
      },
      "outputs": [
        {
          "data": {
            "text/html": [
              "<div>\n",
              "<style scoped>\n",
              "    .dataframe tbody tr th:only-of-type {\n",
              "        vertical-align: middle;\n",
              "    }\n",
              "\n",
              "    .dataframe tbody tr th {\n",
              "        vertical-align: top;\n",
              "    }\n",
              "\n",
              "    .dataframe thead th {\n",
              "        text-align: right;\n",
              "    }\n",
              "</style>\n",
              "<table border=\"1\" class=\"dataframe\">\n",
              "  <thead>\n",
              "    <tr style=\"text-align: right;\">\n",
              "      <th></th>\n",
              "      <th>battery_power</th>\n",
              "      <th>blue</th>\n",
              "      <th>clock_speed</th>\n",
              "      <th>dual_sim</th>\n",
              "      <th>fc</th>\n",
              "      <th>four_g</th>\n",
              "      <th>int_memory</th>\n",
              "      <th>m_dep</th>\n",
              "      <th>mobile_wt</th>\n",
              "      <th>n_cores</th>\n",
              "      <th>...</th>\n",
              "      <th>sc_w</th>\n",
              "      <th>talk_time</th>\n",
              "      <th>three_g</th>\n",
              "      <th>touch_screen</th>\n",
              "      <th>wifi</th>\n",
              "      <th>ppi</th>\n",
              "      <th>battery_efficiency</th>\n",
              "      <th>screen_size</th>\n",
              "      <th>ram_per_core</th>\n",
              "      <th>total_memory</th>\n",
              "    </tr>\n",
              "  </thead>\n",
              "  <tbody>\n",
              "    <tr>\n",
              "      <th>count</th>\n",
              "      <td>1600.000000</td>\n",
              "      <td>1600.000000</td>\n",
              "      <td>1600.000000</td>\n",
              "      <td>1600.000000</td>\n",
              "      <td>1600.000000</td>\n",
              "      <td>1600.000000</td>\n",
              "      <td>1600.000000</td>\n",
              "      <td>1600.000000</td>\n",
              "      <td>1600.000000</td>\n",
              "      <td>1600.000000</td>\n",
              "      <td>...</td>\n",
              "      <td>1600.000000</td>\n",
              "      <td>1600.000000</td>\n",
              "      <td>1600.000000</td>\n",
              "      <td>1600.000000</td>\n",
              "      <td>1600.0000</td>\n",
              "      <td>1600.000000</td>\n",
              "      <td>1600.000000</td>\n",
              "      <td>1600.000000</td>\n",
              "      <td>1600.000000</td>\n",
              "      <td>1600.000000</td>\n",
              "    </tr>\n",
              "    <tr>\n",
              "      <th>mean</th>\n",
              "      <td>1236.665625</td>\n",
              "      <td>0.494375</td>\n",
              "      <td>1.529313</td>\n",
              "      <td>0.506875</td>\n",
              "      <td>4.322500</td>\n",
              "      <td>0.518125</td>\n",
              "      <td>32.063125</td>\n",
              "      <td>0.503563</td>\n",
              "      <td>140.102500</td>\n",
              "      <td>4.546875</td>\n",
              "      <td>...</td>\n",
              "      <td>5.778750</td>\n",
              "      <td>10.921250</td>\n",
              "      <td>0.761875</td>\n",
              "      <td>0.504375</td>\n",
              "      <td>0.5125</td>\n",
              "      <td>121.253076</td>\n",
              "      <td>9.445824</td>\n",
              "      <td>80.637500</td>\n",
              "      <td>708.905294</td>\n",
              "      <td>2157.070625</td>\n",
              "    </tr>\n",
              "    <tr>\n",
              "      <th>std</th>\n",
              "      <td>438.041695</td>\n",
              "      <td>0.500125</td>\n",
              "      <td>0.817696</td>\n",
              "      <td>0.500109</td>\n",
              "      <td>4.337799</td>\n",
              "      <td>0.499828</td>\n",
              "      <td>18.264382</td>\n",
              "      <td>0.289000</td>\n",
              "      <td>35.283567</td>\n",
              "      <td>2.286607</td>\n",
              "      <td>...</td>\n",
              "      <td>4.385552</td>\n",
              "      <td>5.490231</td>\n",
              "      <td>0.426069</td>\n",
              "      <td>0.500137</td>\n",
              "      <td>0.5000</td>\n",
              "      <td>71.236420</td>\n",
              "      <td>4.269225</td>\n",
              "      <td>77.607251</td>\n",
              "      <td>737.628733</td>\n",
              "      <td>1086.500705</td>\n",
              "    </tr>\n",
              "    <tr>\n",
              "      <th>min</th>\n",
              "      <td>502.000000</td>\n",
              "      <td>0.000000</td>\n",
              "      <td>0.500000</td>\n",
              "      <td>0.000000</td>\n",
              "      <td>0.000000</td>\n",
              "      <td>0.000000</td>\n",
              "      <td>2.000000</td>\n",
              "      <td>0.100000</td>\n",
              "      <td>80.000000</td>\n",
              "      <td>1.000000</td>\n",
              "      <td>...</td>\n",
              "      <td>0.000000</td>\n",
              "      <td>2.000000</td>\n",
              "      <td>0.000000</td>\n",
              "      <td>0.000000</td>\n",
              "      <td>0.0000</td>\n",
              "      <td>22.211163</td>\n",
              "      <td>2.522613</td>\n",
              "      <td>0.000000</td>\n",
              "      <td>32.250000</td>\n",
              "      <td>262.000000</td>\n",
              "    </tr>\n",
              "    <tr>\n",
              "      <th>25%</th>\n",
              "      <td>849.500000</td>\n",
              "      <td>0.000000</td>\n",
              "      <td>0.700000</td>\n",
              "      <td>0.000000</td>\n",
              "      <td>1.000000</td>\n",
              "      <td>0.000000</td>\n",
              "      <td>16.000000</td>\n",
              "      <td>0.200000</td>\n",
              "      <td>109.000000</td>\n",
              "      <td>3.000000</td>\n",
              "      <td>...</td>\n",
              "      <td>2.000000</td>\n",
              "      <td>6.000000</td>\n",
              "      <td>1.000000</td>\n",
              "      <td>0.000000</td>\n",
              "      <td>0.0000</td>\n",
              "      <td>71.149698</td>\n",
              "      <td>6.147959</td>\n",
              "      <td>18.000000</td>\n",
              "      <td>258.642857</td>\n",
              "      <td>1231.750000</td>\n",
              "    </tr>\n",
              "    <tr>\n",
              "      <th>50%</th>\n",
              "      <td>1222.500000</td>\n",
              "      <td>0.000000</td>\n",
              "      <td>1.500000</td>\n",
              "      <td>1.000000</td>\n",
              "      <td>3.000000</td>\n",
              "      <td>1.000000</td>\n",
              "      <td>31.500000</td>\n",
              "      <td>0.500000</td>\n",
              "      <td>141.000000</td>\n",
              "      <td>5.000000</td>\n",
              "      <td>...</td>\n",
              "      <td>5.000000</td>\n",
              "      <td>11.000000</td>\n",
              "      <td>1.000000</td>\n",
              "      <td>1.000000</td>\n",
              "      <td>1.0000</td>\n",
              "      <td>103.431749</td>\n",
              "      <td>8.848830</td>\n",
              "      <td>54.000000</td>\n",
              "      <td>466.607143</td>\n",
              "      <td>2174.000000</td>\n",
              "    </tr>\n",
              "    <tr>\n",
              "      <th>75%</th>\n",
              "      <td>1614.000000</td>\n",
              "      <td>1.000000</td>\n",
              "      <td>2.225000</td>\n",
              "      <td>1.000000</td>\n",
              "      <td>7.000000</td>\n",
              "      <td>1.000000</td>\n",
              "      <td>48.000000</td>\n",
              "      <td>0.800000</td>\n",
              "      <td>170.000000</td>\n",
              "      <td>7.000000</td>\n",
              "      <td>...</td>\n",
              "      <td>9.000000</td>\n",
              "      <td>16.000000</td>\n",
              "      <td>1.000000</td>\n",
              "      <td>1.000000</td>\n",
              "      <td>1.0000</td>\n",
              "      <td>150.904562</td>\n",
              "      <td>11.889007</td>\n",
              "      <td>126.000000</td>\n",
              "      <td>830.937500</td>\n",
              "      <td>3095.750000</td>\n",
              "    </tr>\n",
              "    <tr>\n",
              "      <th>max</th>\n",
              "      <td>1998.000000</td>\n",
              "      <td>1.000000</td>\n",
              "      <td>3.000000</td>\n",
              "      <td>1.000000</td>\n",
              "      <td>19.000000</td>\n",
              "      <td>1.000000</td>\n",
              "      <td>64.000000</td>\n",
              "      <td>1.000000</td>\n",
              "      <td>200.000000</td>\n",
              "      <td>8.000000</td>\n",
              "      <td>...</td>\n",
              "      <td>18.000000</td>\n",
              "      <td>20.000000</td>\n",
              "      <td>1.000000</td>\n",
              "      <td>1.000000</td>\n",
              "      <td>1.0000</td>\n",
              "      <td>493.462804</td>\n",
              "      <td>24.675000</td>\n",
              "      <td>342.000000</td>\n",
              "      <td>3978.000000</td>\n",
              "      <td>4040.000000</td>\n",
              "    </tr>\n",
              "  </tbody>\n",
              "</table>\n",
              "<p>8 rows × 25 columns</p>\n",
              "</div>"
            ],
            "text/plain": [
              "       battery_power         blue  clock_speed     dual_sim           fc  \\\n",
              "count    1600.000000  1600.000000  1600.000000  1600.000000  1600.000000   \n",
              "mean     1236.665625     0.494375     1.529313     0.506875     4.322500   \n",
              "std       438.041695     0.500125     0.817696     0.500109     4.337799   \n",
              "min       502.000000     0.000000     0.500000     0.000000     0.000000   \n",
              "25%       849.500000     0.000000     0.700000     0.000000     1.000000   \n",
              "50%      1222.500000     0.000000     1.500000     1.000000     3.000000   \n",
              "75%      1614.000000     1.000000     2.225000     1.000000     7.000000   \n",
              "max      1998.000000     1.000000     3.000000     1.000000    19.000000   \n",
              "\n",
              "            four_g   int_memory        m_dep    mobile_wt      n_cores  ...  \\\n",
              "count  1600.000000  1600.000000  1600.000000  1600.000000  1600.000000  ...   \n",
              "mean      0.518125    32.063125     0.503563   140.102500     4.546875  ...   \n",
              "std       0.499828    18.264382     0.289000    35.283567     2.286607  ...   \n",
              "min       0.000000     2.000000     0.100000    80.000000     1.000000  ...   \n",
              "25%       0.000000    16.000000     0.200000   109.000000     3.000000  ...   \n",
              "50%       1.000000    31.500000     0.500000   141.000000     5.000000  ...   \n",
              "75%       1.000000    48.000000     0.800000   170.000000     7.000000  ...   \n",
              "max       1.000000    64.000000     1.000000   200.000000     8.000000  ...   \n",
              "\n",
              "              sc_w    talk_time      three_g  touch_screen       wifi  \\\n",
              "count  1600.000000  1600.000000  1600.000000   1600.000000  1600.0000   \n",
              "mean      5.778750    10.921250     0.761875      0.504375     0.5125   \n",
              "std       4.385552     5.490231     0.426069      0.500137     0.5000   \n",
              "min       0.000000     2.000000     0.000000      0.000000     0.0000   \n",
              "25%       2.000000     6.000000     1.000000      0.000000     0.0000   \n",
              "50%       5.000000    11.000000     1.000000      1.000000     1.0000   \n",
              "75%       9.000000    16.000000     1.000000      1.000000     1.0000   \n",
              "max      18.000000    20.000000     1.000000      1.000000     1.0000   \n",
              "\n",
              "               ppi  battery_efficiency  screen_size  ram_per_core  \\\n",
              "count  1600.000000         1600.000000  1600.000000   1600.000000   \n",
              "mean    121.253076            9.445824    80.637500    708.905294   \n",
              "std      71.236420            4.269225    77.607251    737.628733   \n",
              "min      22.211163            2.522613     0.000000     32.250000   \n",
              "25%      71.149698            6.147959    18.000000    258.642857   \n",
              "50%     103.431749            8.848830    54.000000    466.607143   \n",
              "75%     150.904562           11.889007   126.000000    830.937500   \n",
              "max     493.462804           24.675000   342.000000   3978.000000   \n",
              "\n",
              "       total_memory  \n",
              "count   1600.000000  \n",
              "mean    2157.070625  \n",
              "std     1086.500705  \n",
              "min      262.000000  \n",
              "25%     1231.750000  \n",
              "50%     2174.000000  \n",
              "75%     3095.750000  \n",
              "max     4040.000000  \n",
              "\n",
              "[8 rows x 25 columns]"
            ]
          },
          "execution_count": 12,
          "metadata": {},
          "output_type": "execute_result"
        }
      ],
      "source": [
        "numeric_stats"
      ]
    },
    {
      "cell_type": "markdown",
      "metadata": {
        "id": "G-t5NPX6Ff4D"
      },
      "source": [
        "Есть предположение, что если мы уберем малозначимые признаки относительно корреляции, то мы сможем улучшить качество"
      ]
    },
    {
      "cell_type": "code",
      "execution_count": 13,
      "metadata": {
        "id": "JgUCxUhOz8tQ"
      },
      "outputs": [],
      "source": [
        "corr_df = pd.concat([X_trainV2, y_train], axis=1).corr()\n",
        "bad_columns = list(corr_df[corr_df[\"price_range\"].abs() < 0.04].index) + [\"ram\", \"int_memory\", \"ppi\", \"battery_efficiency\"] #\"px_height\", \"px_width\"]"
      ]
    },
    {
      "cell_type": "code",
      "execution_count": 14,
      "metadata": {
        "id": "ZNLlTDIPFKvt"
      },
      "outputs": [],
      "source": [
        "X_train_filtered = X_trainV2.drop(columns=bad_columns)\n",
        "X_test_filtered = X_testV2.drop(columns=bad_columns)"
      ]
    },
    {
      "cell_type": "markdown",
      "metadata": {
        "id": "4crXc2KBJ2Mn"
      },
      "source": [
        "Обучим модель с улучшенным бейзлайном"
      ]
    },
    {
      "cell_type": "code",
      "execution_count": 15,
      "metadata": {
        "colab": {
          "base_uri": "https://localhost:8080/"
        },
        "id": "YrppYYJR0S-t",
        "outputId": "7db1c335-e861-4b1d-ed84-00c8e1f7af8a"
      },
      "outputs": [
        {
          "name": "stdout",
          "output_type": "stream",
          "text": [
            "=== Grad_boosting Классификатор ===\n",
            "Accuracy: 0.9225\n",
            "Classification Report:\n",
            "               precision    recall  f1-score   support\n",
            "\n",
            "           0       0.95      0.98      0.97       100\n",
            "           1       0.89      0.88      0.88       100\n",
            "           2       0.87      0.90      0.88       100\n",
            "           3       0.99      0.93      0.96       100\n",
            "\n",
            "    accuracy                           0.92       400\n",
            "   macro avg       0.92      0.92      0.92       400\n",
            "weighted avg       0.92      0.92      0.92       400\n",
            "\n",
            "=== Производительность на тренировочных данных ===\n",
            "Accuracy (Train): 0.998125\n",
            "Classification Report (Train):\n",
            "               precision    recall  f1-score   support\n",
            "\n",
            "           0       1.00      1.00      1.00       400\n",
            "           1       1.00      0.99      1.00       400\n",
            "           2       1.00      1.00      1.00       400\n",
            "           3       1.00      1.00      1.00       400\n",
            "\n",
            "    accuracy                           1.00      1600\n",
            "   macro avg       1.00      1.00      1.00      1600\n",
            "weighted avg       1.00      1.00      1.00      1600\n",
            "\n"
          ]
        }
      ],
      "source": [
        "numerical_transformer = StandardScaler()\n",
        "\n",
        "preprocessor = ColumnTransformer(\n",
        "    transformers=[\n",
        "        ('num', numerical_transformer, list(X_train_filtered.columns)),\n",
        "    ])\n",
        "\n",
        "\n",
        "pipeline_grad_boosting = Pipeline(steps=[\n",
        "    ('preprocessor', preprocessor),\n",
        "    ('grad_boosting', GradientBoostingClassifier(random_state=12))\n",
        "])\n",
        "\n",
        "pipeline_grad_boosting.fit(X_train_filtered, y_train)\n",
        "y_pred_grad_boosting = pipeline_grad_boosting.predict(X_test_filtered)\n",
        "\n",
        "print(\"=== Grad_boosting Классификатор ===\")\n",
        "print(\"Accuracy:\", accuracy_score(y_test, y_pred_grad_boosting))\n",
        "print(\"Classification Report:\\n\", classification_report(y_test, y_pred_grad_boosting))\n",
        "\n",
        "\n",
        "y_train_pred = pipeline_grad_boosting.predict(X_train_filtered)\n",
        "print(\"=== Производительность на тренировочных данных ===\")\n",
        "print(\"Accuracy (Train):\", accuracy_score(y_train, y_train_pred))\n",
        "print(\"Classification Report (Train):\\n\", classification_report(y_train, y_train_pred))\n"
      ]
    },
    {
      "cell_type": "markdown",
      "metadata": {
        "id": "kLLCxCZLJuXm"
      },
      "source": [
        "Попробуем подобрать лучшие гиперпараметры"
      ]
    },
    {
      "cell_type": "code",
      "execution_count": 16,
      "metadata": {
        "colab": {
          "base_uri": "https://localhost:8080/"
        },
        "id": "2WVXye_9GsUl",
        "outputId": "97e4d491-3299-4764-b836-758064f72c35"
      },
      "outputs": [
        {
          "name": "stdout",
          "output_type": "stream",
          "text": [
            "Лучшие параметры: {'grad_boosting__learning_rate': 0.3, 'grad_boosting__max_depth': 2, 'grad_boosting__n_estimators': 100}\n",
            "Accuracy: 0.9425\n",
            "Classification Report:\n",
            "               precision    recall  f1-score   support\n",
            "\n",
            "           0       0.98      1.00      0.99       100\n",
            "           1       0.93      0.93      0.93       100\n",
            "           2       0.90      0.89      0.89       100\n",
            "           3       0.96      0.95      0.95       100\n",
            "\n",
            "    accuracy                           0.94       400\n",
            "   macro avg       0.94      0.94      0.94       400\n",
            "weighted avg       0.94      0.94      0.94       400\n",
            "\n",
            "=== Производительность на тренировочных данных ===\n",
            "Accuracy (Train): 1.0\n",
            "Classification Report (Train):\n",
            "               precision    recall  f1-score   support\n",
            "\n",
            "           0       1.00      1.00      1.00       400\n",
            "           1       1.00      1.00      1.00       400\n",
            "           2       1.00      1.00      1.00       400\n",
            "           3       1.00      1.00      1.00       400\n",
            "\n",
            "    accuracy                           1.00      1600\n",
            "   macro avg       1.00      1.00      1.00      1600\n",
            "weighted avg       1.00      1.00      1.00      1600\n",
            "\n"
          ]
        }
      ],
      "source": [
        "from sklearn.model_selection import train_test_split, GridSearchCV\n",
        "\n",
        "pipeline_tree = Pipeline(steps=[\n",
        "    ('preprocessor', preprocessor),\n",
        "    ('grad_boosting', GradientBoostingClassifier(random_state=12))\n",
        "])\n",
        "\n",
        "param_grid = {\n",
        "    'grad_boosting__n_estimators': [10, 50, 100, 200],\n",
        "    'grad_boosting__learning_rate': [0.1, 0.2, 0.3, 0.4],\n",
        "    'grad_boosting__max_depth': [2, 3, 5, 7],\n",
        "}\n",
        "\n",
        "\n",
        "grid_search = GridSearchCV(pipeline_tree, param_grid, cv=5, scoring='accuracy')\n",
        "grid_search.fit(X_train_filtered, y_train)\n",
        "\n",
        "print(\"Лучшие параметры:\", grid_search.best_params_)\n",
        "\n",
        "best_grad_boosting = grid_search.best_estimator_\n",
        "\n",
        "y_pred_grad_boosting = best_grad_boosting.predict(X_test_filtered)\n",
        "\n",
        "print(\"Accuracy:\", accuracy_score(y_test, y_pred_grad_boosting))\n",
        "print(\"Classification Report:\\n\", classification_report(y_test, y_pred_grad_boosting))\n",
        "\n",
        "\n",
        "y_train_pred = best_grad_boosting.predict(X_train_filtered)\n",
        "print(\"=== Производительность на тренировочных данных ===\")\n",
        "print(\"Accuracy (Train):\", accuracy_score(y_train, y_train_pred))\n",
        "print(\"Classification Report (Train):\\n\", classification_report(y_train, y_train_pred))"
      ]
    },
    {
      "cell_type": "markdown",
      "metadata": {
        "id": "qDjmhMkzNizz"
      },
      "source": [
        "# 4. Своя имплементация GradientBoosting"
      ]
    },
    {
      "cell_type": "code",
      "execution_count": 44,
      "metadata": {
        "id": "0_dMWynbhUvo"
      },
      "outputs": [],
      "source": [
        "import sys\n",
        "from pathlib import Path\n",
        "\n",
        "project_root = Path().resolve().parent\n",
        "sys.path.append(str(project_root))\n",
        "\n",
        "from implementations import GradientBoosting"
      ]
    },
    {
      "cell_type": "code",
      "execution_count": null,
      "metadata": {
        "colab": {
          "base_uri": "https://localhost:8080/"
        },
        "id": "NmwW4KvsMIDG",
        "outputId": "9ddda1fb-8b58-4b46-bfde-eb18f4f09876"
      },
      "outputs": [
        {
          "name": "stdout",
          "output_type": "stream",
          "text": [
            "=== Gradient Boosting Классификатор ===\n",
            "Accuracy: 0.7475\n",
            "Classification Report:\n",
            "               precision    recall  f1-score   support\n",
            "\n",
            "           0       0.90      0.81      0.85       100\n",
            "           1       0.62      0.78      0.69       100\n",
            "           2       0.66      0.57      0.61       100\n",
            "           3       0.85      0.83      0.84       100\n",
            "\n",
            "    accuracy                           0.75       400\n",
            "   macro avg       0.76      0.75      0.75       400\n",
            "weighted avg       0.76      0.75      0.75       400\n",
            "\n"
          ]
        }
      ],
      "source": [
        "pipeline_grad_boosting = Pipeline(steps=[\n",
        "    ('grad_boosting', GradientBoosting())\n",
        "])\n",
        "\n",
        "pipeline_grad_boosting.fit(X_train, y_train)\n",
        "y_pred_grad_boosting = pipeline_grad_boosting.predict(X_test)\n",
        "\n",
        "print(\"=== Gradient Boosting Классификатор ===\")\n",
        "print(\"Accuracy:\", accuracy_score(y_test, y_pred_grad_boosting))\n",
        "print(\"Classification Report:\\n\", classification_report(y_test, y_pred_grad_boosting))\n"
      ]
    },
    {
      "cell_type": "code",
      "execution_count": 45,
      "metadata": {
        "colab": {
          "base_uri": "https://localhost:8080/"
        },
        "id": "8kgYvWX_Owb_",
        "outputId": "4a9fd9cb-0eed-488d-faac-2b38261996d6"
      },
      "outputs": [
        {
          "name": "stdout",
          "output_type": "stream",
          "text": [
            "=== Gradient Boosting Классификатор ===\n",
            "Accuracy: 0.74\n",
            "Classification Report:\n",
            "               precision    recall  f1-score   support\n",
            "\n",
            "           0       0.91      0.79      0.84       100\n",
            "           1       0.60      0.83      0.69       100\n",
            "           2       0.65      0.57      0.61       100\n",
            "           3       0.90      0.77      0.83       100\n",
            "\n",
            "    accuracy                           0.74       400\n",
            "   macro avg       0.76      0.74      0.74       400\n",
            "weighted avg       0.76      0.74      0.74       400\n",
            "\n"
          ]
        }
      ],
      "source": [
        "numerical_transformer = StandardScaler()\n",
        "\n",
        "preprocessor = ColumnTransformer(\n",
        "    transformers=[\n",
        "        ('num', numerical_transformer, list(X_train_filtered.columns)),\n",
        "    ])\n",
        "\n",
        "\n",
        "pipeline_grad_boosting = Pipeline(steps=[\n",
        "    ('preprocessor', preprocessor),\n",
        "    ('grad_boosting', GradientBoosting(max_depth=3))\n",
        "])\n",
        "\n",
        "pipeline_grad_boosting.fit(X_train_filtered, y_train)\n",
        "y_pred_grad_boosting = pipeline_grad_boosting.predict(X_test_filtered)\n",
        "\n",
        "print(\"=== Gradient Boosting Классификатор ===\")\n",
        "print(\"Accuracy:\", accuracy_score(y_test, y_pred_grad_boosting))\n",
        "print(\"Classification Report:\\n\", classification_report(y_test, y_pred_grad_boosting))\n"
      ]
    },
    {
      "cell_type": "markdown",
      "metadata": {
        "id": "gWJC_IzUxVM6"
      },
      "source": [
        "Моя имплементация схожа с результатами как и реализация в sklearn.\n",
        "\n",
        "В ходе анализа данных можно понять что некоторые признаки влияют на целевую переменную больше чем остальные"
      ]
    },
    {
      "cell_type": "code",
      "execution_count": null,
      "metadata": {
        "id": "Eq3ALQC1fJtX"
      },
      "outputs": [],
      "source": []
    }
  ],
  "metadata": {
    "colab": {
      "provenance": []
    },
    "kernelspec": {
      "display_name": "Python 3",
      "name": "python3"
    },
    "language_info": {
      "codemirror_mode": {
        "name": "ipython",
        "version": 3
      },
      "file_extension": ".py",
      "mimetype": "text/x-python",
      "name": "python",
      "nbconvert_exporter": "python",
      "pygments_lexer": "ipython3",
      "version": "3.12.0"
    }
  },
  "nbformat": 4,
  "nbformat_minor": 0
}
